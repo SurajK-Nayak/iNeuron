{
 "cells": [
  {
   "cell_type": "markdown",
   "id": "57480943",
   "metadata": {},
   "source": [
    "### 1.What are the two values of the Boolean data type? How do you write them?"
   ]
  },
  {
   "cell_type": "markdown",
   "id": "e766694c",
   "metadata": {},
   "source": [
    "The two values of Boolean data type are:\n",
    "\n",
    "* True ( it represents 1 )\n",
    "* False  ( it represents 0 )"
   ]
  },
  {
   "cell_type": "markdown",
   "id": "c17dfd56",
   "metadata": {},
   "source": [
    "### 2. What are the three different types of Boolean operators?"
   ]
  },
  {
   "cell_type": "markdown",
   "id": "63f8f22c",
   "metadata": {},
   "source": [
    "* and ( True if both operands are true )\n",
    "* or ( True if at least one opearnd is true )\n",
    "* not ( True only if operand is false )"
   ]
  },
  {
   "cell_type": "markdown",
   "id": "6c65dbdf",
   "metadata": {},
   "source": [
    "### 3. Make a list of each Boolean operator's truth tables (i.e. every possible combination of Boolean values for the operator and what it evaluate )."
   ]
  },
  {
   "cell_type": "markdown",
   "id": "ac8c830c",
   "metadata": {},
   "source": [
    "* True  and True  = True\n",
    "* True  and False = False\n",
    "* False and True  = False\n",
    "* False and False = False"
   ]
  },
  {
   "cell_type": "markdown",
   "id": "b0221c94",
   "metadata": {},
   "source": [
    "* True  or True  = True\n",
    "* True  or False = True\n",
    "* False or True  = True\n",
    "* False or False = False"
   ]
  },
  {
   "cell_type": "markdown",
   "id": "e0fe64ca",
   "metadata": {},
   "source": [
    "* not True = False\n",
    "* not False = True"
   ]
  },
  {
   "cell_type": "markdown",
   "id": "bef1b4be",
   "metadata": {},
   "source": [
    "### 4. What are the values of the following expressions?"
   ]
  },
  {
   "cell_type": "markdown",
   "id": "07705ff5",
   "metadata": {},
   "source": [
    "* (5 > 4) and (3 == 5) = False\n",
    "* not (5 > 4) = False\n",
    "* (5 > 4) or (3 == 5) = True\n",
    "* not ((5 > 4) or (3 == 5)) = False\n",
    "* (True and True) and (True == False) = False\n",
    "* (not False) or (not True) = True"
   ]
  },
  {
   "cell_type": "markdown",
   "id": "fe2e2d35",
   "metadata": {},
   "source": [
    "### 5. What are the six comparison operators?"
   ]
  },
  {
   "cell_type": "markdown",
   "id": "a0ffc9ee",
   "metadata": {},
   "source": [
    "* == (Equal)\n",
    "* != (Not equal)\n",
    "* \\> (Greater than)\n",
    "* < (Less than)\n",
    "* \\>= (Greater than or equal to)\n",
    "* <= (Less than or equal to)"
   ]
  },
  {
   "cell_type": "markdown",
   "id": "93452ec1",
   "metadata": {},
   "source": [
    "### 6. How do you tell the difference between the equal to and assignment operators?Describe a condition and when you would use one."
   ]
  },
  {
   "cell_type": "markdown",
   "id": "b4cf7405",
   "metadata": {},
   "source": [
    "Equal to operator is represented by \" == \", whereas assignment operator is represented as \" = \".\n",
    "\n",
    "Equal to operator checks if both the values are same and returns either True or False, whereas assignment operator assigns a value to the variable.\n",
    "\n",
    "E.g.\n",
    "\n",
    "name = \"Suraj\"  # here \"Suraj\" is assigned to variable \"name\" with the help of assignment operator\n",
    "\n",
    "name == \"Suraj\"  # here the equal to operator checks if the value stored in name is equal to \"Suraj\", then returns True"
   ]
  },
  {
   "cell_type": "markdown",
   "id": "25a44484",
   "metadata": {},
   "source": [
    "### 7. Identify the three blocks in this code:"
   ]
  },
  {
   "cell_type": "code",
   "execution_count": 1,
   "id": "80dcb8c7",
   "metadata": {},
   "outputs": [
    {
     "name": "stdout",
     "output_type": "stream",
     "text": [
      "ham\n",
      "spam\n",
      "spam\n"
     ]
    }
   ],
   "source": [
    "spam = 0\n",
    "if spam == 10:\n",
    "    print('eggs') # block 1\n",
    "if spam > 5:\n",
    "    print('bacon')  # block 2\n",
    "else:\n",
    "    print('ham')  # block 3\n",
    "    print('spam')\n",
    "    print('spam')"
   ]
  },
  {
   "cell_type": "markdown",
   "id": "957eb40c",
   "metadata": {},
   "source": [
    "### 8. Write code that prints Hello if 1 is stored in spam, prints Howdy if 2 is stored in spam, and prints Greetings! if anything else is stored in spam."
   ]
  },
  {
   "cell_type": "code",
   "execution_count": 2,
   "id": "f17f7570",
   "metadata": {},
   "outputs": [
    {
     "name": "stdout",
     "output_type": "stream",
     "text": [
      "Hello\n"
     ]
    }
   ],
   "source": [
    "spam = 1\n",
    "if spam == 1:\n",
    "    print('Hello')\n",
    "elif spam == 2:\n",
    "    print('Howdy')\n",
    "else:\n",
    "    print('Greetings!')"
   ]
  },
  {
   "cell_type": "markdown",
   "id": "51c4ce9f",
   "metadata": {},
   "source": [
    "### 9.If your programme is stuck in an endless loop, what keys you’ll press?"
   ]
  },
  {
   "cell_type": "markdown",
   "id": "1aedcb81",
   "metadata": {},
   "source": [
    "I will interuppt or restart the kernel.\n",
    "\n",
    "I can also press CTRL + C in the terminal."
   ]
  },
  {
   "cell_type": "markdown",
   "id": "66a5faf7",
   "metadata": {},
   "source": [
    "### 10. How can you tell the difference between break and continue?"
   ]
  },
  {
   "cell_type": "markdown",
   "id": "c18bfe8c",
   "metadata": {},
   "source": [
    "The main difference between both the statements is that when break keyword comes, it terminates the execution of the current loop and passes the control over the next loop or main body, whereas when continue keyword is encountered, it skips the current iteration and executes the very next iteration in the loop."
   ]
  },
  {
   "cell_type": "code",
   "execution_count": 3,
   "id": "1837031c",
   "metadata": {},
   "outputs": [
    {
     "name": "stdout",
     "output_type": "stream",
     "text": [
      "0\n",
      "1\n",
      "2\n",
      "Hello\n"
     ]
    }
   ],
   "source": [
    "# when i=3, the break keyword is executed and it terminates the current loop and passes the control over\n",
    "\n",
    "for i in range(5):\n",
    "    if i == 3:\n",
    "        break\n",
    "    print(i)\n",
    "print(\"Hello\")"
   ]
  },
  {
   "cell_type": "code",
   "execution_count": 4,
   "id": "a95a4fa1",
   "metadata": {},
   "outputs": [
    {
     "name": "stdout",
     "output_type": "stream",
     "text": [
      "0\n",
      "1\n",
      "2\n",
      "4\n",
      "Hello\n"
     ]
    }
   ],
   "source": [
    "# when i=3, the continue keyword is executed and it terminates only the current iteration and hence only 3 is skipped and \n",
    "# it passes the control over to the start of the loop\n",
    "\n",
    "for i in range(5):\n",
    "    if i == 3:\n",
    "        continue\n",
    "    print(i)\n",
    "print(\"Hello\")"
   ]
  },
  {
   "cell_type": "markdown",
   "id": "79987a52",
   "metadata": {},
   "source": [
    "### 11. In a for loop, what is the difference between range(10), range(0, 10), and range(0, 10, 1)?"
   ]
  },
  {
   "cell_type": "markdown",
   "id": "926d2f72",
   "metadata": {},
   "source": [
    "All three are the same as by default the starting position is 0 and default increment is 1."
   ]
  },
  {
   "cell_type": "markdown",
   "id": "0df953a6",
   "metadata": {},
   "source": [
    "### 12. Write a short program that prints the numbers 1 to 10 using a for loop. Then write an equivalent program that prints the numbers 1 to 10 using a while loop."
   ]
  },
  {
   "cell_type": "code",
   "execution_count": 5,
   "id": "eda4eb4a",
   "metadata": {},
   "outputs": [
    {
     "name": "stdout",
     "output_type": "stream",
     "text": [
      "1\n",
      "2\n",
      "3\n",
      "4\n",
      "5\n",
      "6\n",
      "7\n",
      "8\n",
      "9\n",
      "10\n"
     ]
    }
   ],
   "source": [
    "for i in range(1,11):\n",
    "    print(i)"
   ]
  },
  {
   "cell_type": "code",
   "execution_count": 6,
   "id": "48757041",
   "metadata": {},
   "outputs": [
    {
     "name": "stdout",
     "output_type": "stream",
     "text": [
      "1\n",
      "2\n",
      "3\n",
      "4\n",
      "5\n",
      "6\n",
      "7\n",
      "8\n",
      "9\n",
      "10\n"
     ]
    }
   ],
   "source": [
    "i = 1\n",
    "while i <= 10:\n",
    "    print(i)\n",
    "    i += 1"
   ]
  },
  {
   "cell_type": "markdown",
   "id": "df127e20",
   "metadata": {},
   "source": [
    "### 13. If you had a function named bacon() inside a module named spam, how would you call it after importing spam?"
   ]
  },
  {
   "cell_type": "markdown",
   "id": "67c49c03",
   "metadata": {},
   "source": [
    "import spam\n",
    "\n",
    "spam.bacon()"
   ]
  }
 ],
 "metadata": {
  "kernelspec": {
   "display_name": "Python 3 (ipykernel)",
   "language": "python",
   "name": "python3"
  },
  "language_info": {
   "codemirror_mode": {
    "name": "ipython",
    "version": 3
   },
   "file_extension": ".py",
   "mimetype": "text/x-python",
   "name": "python",
   "nbconvert_exporter": "python",
   "pygments_lexer": "ipython3",
   "version": "3.9.7"
  }
 },
 "nbformat": 4,
 "nbformat_minor": 5
}
