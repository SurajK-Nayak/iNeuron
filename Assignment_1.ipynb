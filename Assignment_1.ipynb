{
 "cells": [
  {
   "cell_type": "markdown",
   "id": "b0f2cf97",
   "metadata": {},
   "source": [
    "### 1. In the below elements which of them are values or an expression? eg:- values can be integer or string and expressions will be mathematical operators."
   ]
  },
  {
   "cell_type": "raw",
   "id": "7925dc05",
   "metadata": {},
   "source": [
    "*  = expression\n",
    "\n",
    "'hello' = value\n",
    "\n",
    "-87.8 = value\n",
    "\n",
    "- = expression\n",
    "\n",
    "/ = expression\n",
    "\n",
    "+ = expression\n",
    "\n",
    "6 = value"
   ]
  },
  {
   "cell_type": "markdown",
   "id": "e40adc10",
   "metadata": {},
   "source": [
    "### 2. What is the difference between string and variable?"
   ]
  },
  {
   "cell_type": "raw",
   "id": "cabfcafd",
   "metadata": {},
   "source": [
    "Variable is a identifier which is used to store a value in memory location.\n",
    "String on the other hand is anything you assign to a variable using quotes.\n",
    "\n",
    "E.g. my_name = \"Suraj\"\n",
    "\n",
    "here my_name is a variable and \"Suraj\" is a string."
   ]
  },
  {
   "cell_type": "markdown",
   "id": "034d4a9a",
   "metadata": {},
   "source": [
    "### 3. Describe three different data types."
   ]
  },
  {
   "cell_type": "raw",
   "id": "68667097",
   "metadata": {},
   "source": [
    "Integers – It is represented by int class. It contains positive or negative whole numbers (without fraction or decimal).\n",
    "           For example -  3, 4, 5\n",
    "\n",
    "Float – It is represented by float class. It is a real number with floating point representation. It is specified by a decimal    point.\n",
    "        For example -  3.2, 4.1\n",
    "\n",
    "Complex Numbers – Complex number is represented by complex class. It is specified as (real part) + (imaginary part)j. \n",
    "                  For example – 2+3j"
   ]
  },
  {
   "cell_type": "markdown",
   "id": "3dd18930",
   "metadata": {},
   "source": [
    "### 4. What is an expression made up of? What do all expressions do?"
   ]
  },
  {
   "cell_type": "raw",
   "id": "e4997021",
   "metadata": {},
   "source": [
    "An expression is a combination of operators and operands\n",
    "Expressions are used to produce some other value.\n",
    "\n",
    "For example : x = 2022 - 2000\n",
    "    \n",
    "Here \"2022 - 2000\" is an expression which generates value 22 and assigns it to variable x"
   ]
  },
  {
   "cell_type": "markdown",
   "id": "c99a2570",
   "metadata": {},
   "source": [
    "### 5. This assignment statements, like spam = 10. What is the difference between an expression and a statement?"
   ]
  },
  {
   "cell_type": "raw",
   "id": "b8a8f587",
   "metadata": {},
   "source": [
    "Statements represent an action or command e.g print statements, assignment statements. \n",
    "\n",
    "\n",
    "Expression is a combination of operators and operands that yields a result value."
   ]
  },
  {
   "cell_type": "markdown",
   "id": "1acf1002",
   "metadata": {},
   "source": [
    "### 6. After running the following code, what does the variable bacon contain?\n",
    "bacon = 22\n",
    "\n",
    "bacon + 1\n"
   ]
  },
  {
   "cell_type": "raw",
   "id": "f41ad9b9",
   "metadata": {},
   "source": [
    "bacon contains value 22"
   ]
  },
  {
   "cell_type": "markdown",
   "id": "baba3fe4",
   "metadata": {},
   "source": [
    "### 7. What should the values of the following two terms be?\n",
    "'spam' + 'spamspam'\n",
    "\n",
    "'spam' * 3\n"
   ]
  },
  {
   "cell_type": "raw",
   "id": "4ffd7585",
   "metadata": {},
   "source": [
    "'spam' + 'spamspam' = 'spamspamspam'\n",
    "\n",
    "'spam' * 3 = 'spamspamspam'"
   ]
  },
  {
   "cell_type": "markdown",
   "id": "6afeefd1",
   "metadata": {},
   "source": [
    "### 8. Why is eggs a valid variable name while 100 is invalid?"
   ]
  },
  {
   "cell_type": "raw",
   "id": "0d2ba288",
   "metadata": {},
   "source": [
    "Beacuse a variable name must start with a letter or the underscore character. A variable name cannot start with a number."
   ]
  },
  {
   "cell_type": "markdown",
   "id": "c2d021ae",
   "metadata": {},
   "source": [
    "### 9. What three functions can be used to get the integer, floating-point number, or string version of a value?"
   ]
  },
  {
   "cell_type": "raw",
   "id": "1f532475",
   "metadata": {},
   "source": [
    "integer = int()\n",
    "floating-point number = float()\n",
    "string = str()"
   ]
  },
  {
   "cell_type": "markdown",
   "id": "dc196fe4",
   "metadata": {},
   "source": [
    "### 10. Why does this expression cause an error? How can you fix it?\n",
    "\n",
    "'I have eaten ' + 99 + ' burritos.'"
   ]
  },
  {
   "cell_type": "raw",
   "id": "89c52608",
   "metadata": {},
   "source": [
    "It gives error because concantenation can only be performed with string data type, but 99 is of type int.\n",
    "\n",
    "We can fix it by casting 99 as string and then performing concatenation.\n",
    "\n",
    "'I have eaten ' + str(99) + ' burritos.'"
   ]
  }
 ],
 "metadata": {
  "kernelspec": {
   "display_name": "Python 3 (ipykernel)",
   "language": "python",
   "name": "python3"
  },
  "language_info": {
   "codemirror_mode": {
    "name": "ipython",
    "version": 3
   },
   "file_extension": ".py",
   "mimetype": "text/x-python",
   "name": "python",
   "nbconvert_exporter": "python",
   "pygments_lexer": "ipython3",
   "version": "3.9.7"
  }
 },
 "nbformat": 4,
 "nbformat_minor": 5
}
