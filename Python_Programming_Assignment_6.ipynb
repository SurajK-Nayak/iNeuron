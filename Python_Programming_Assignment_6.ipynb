{
 "cells": [
  {
   "cell_type": "markdown",
   "id": "752c6c01",
   "metadata": {},
   "source": [
    "### 1.\tWrite a Python Program to Display Fibonacci Sequence Using Recursion?"
   ]
  },
  {
   "cell_type": "code",
   "execution_count": 1,
   "id": "c960cc21",
   "metadata": {},
   "outputs": [],
   "source": [
    "def fibonacci(num):\n",
    "    if num <= 1:\n",
    "        return num\n",
    "    else:\n",
    "        return fibonacci(num-1) + fibonacci(num-2)"
   ]
  },
  {
   "cell_type": "code",
   "execution_count": 2,
   "id": "caa18e1c",
   "metadata": {},
   "outputs": [
    {
     "name": "stdout",
     "output_type": "stream",
     "text": [
      "0\n",
      "1\n",
      "1\n",
      "2\n",
      "3\n",
      "5\n",
      "8\n",
      "13\n",
      "21\n",
      "34\n"
     ]
    }
   ],
   "source": [
    "for i in range(10):\n",
    "    print(fibonacci(i))"
   ]
  },
  {
   "cell_type": "markdown",
   "id": "21617bbd",
   "metadata": {},
   "source": [
    "### 2.\tWrite a Python Program to Find Factorial of Number Using Recursion?"
   ]
  },
  {
   "cell_type": "code",
   "execution_count": 3,
   "id": "77992496",
   "metadata": {},
   "outputs": [],
   "source": [
    "def fact(num):\n",
    "    if num > 0:\n",
    "        return (num * fact(num-1))\n",
    "    else:\n",
    "        return 1"
   ]
  },
  {
   "cell_type": "code",
   "execution_count": 4,
   "id": "ff9245a8",
   "metadata": {},
   "outputs": [
    {
     "data": {
      "text/plain": [
       "120"
      ]
     },
     "execution_count": 4,
     "metadata": {},
     "output_type": "execute_result"
    }
   ],
   "source": [
    "fact(5)"
   ]
  },
  {
   "cell_type": "markdown",
   "id": "123f79ff",
   "metadata": {},
   "source": [
    "### 3.\tWrite a Python Program to calculate your Body Mass Index?"
   ]
  },
  {
   "cell_type": "code",
   "execution_count": 5,
   "id": "7fc0a9aa",
   "metadata": {},
   "outputs": [],
   "source": [
    "def bmi(weight_kg, height_m):\n",
    "    return weight_kg / height_m**2"
   ]
  },
  {
   "cell_type": "code",
   "execution_count": 6,
   "id": "e450ddaf",
   "metadata": {},
   "outputs": [
    {
     "data": {
      "text/plain": [
       "23.875114784205696"
      ]
     },
     "execution_count": 6,
     "metadata": {},
     "output_type": "execute_result"
    }
   ],
   "source": [
    "bmi(65, 1.65)"
   ]
  },
  {
   "cell_type": "markdown",
   "id": "34d3bed7",
   "metadata": {},
   "source": [
    "### 4.\tWrite a Python Program to calculate the natural logarithm of any number?"
   ]
  },
  {
   "cell_type": "code",
   "execution_count": 7,
   "id": "017f72bd",
   "metadata": {},
   "outputs": [],
   "source": [
    "import math\n",
    "\n",
    "def nat_log(num):\n",
    "    return math.log(num)"
   ]
  },
  {
   "cell_type": "code",
   "execution_count": 8,
   "id": "9de16411",
   "metadata": {},
   "outputs": [
    {
     "data": {
      "text/plain": [
       "4.6063694665635735"
      ]
     },
     "execution_count": 8,
     "metadata": {},
     "output_type": "execute_result"
    }
   ],
   "source": [
    "nat_log(100.12)"
   ]
  },
  {
   "cell_type": "markdown",
   "id": "069e56d8",
   "metadata": {},
   "source": [
    "### 5.\tWrite a Python Program for cube sum of first n natural numbers?"
   ]
  },
  {
   "cell_type": "code",
   "execution_count": 9,
   "id": "3c7a691a",
   "metadata": {},
   "outputs": [],
   "source": [
    "def cube_sum(num):\n",
    "    sum = 0\n",
    "    for i in range(1, num+1):\n",
    "        sum = sum + i**3\n",
    "    return sum"
   ]
  },
  {
   "cell_type": "code",
   "execution_count": 10,
   "id": "792fd66c",
   "metadata": {},
   "outputs": [
    {
     "data": {
      "text/plain": [
       "784"
      ]
     },
     "execution_count": 10,
     "metadata": {},
     "output_type": "execute_result"
    }
   ],
   "source": [
    "cube_sum(7)"
   ]
  },
  {
   "cell_type": "code",
   "execution_count": null,
   "id": "fa5a1814",
   "metadata": {},
   "outputs": [],
   "source": []
  }
 ],
 "metadata": {
  "kernelspec": {
   "display_name": "Python 3 (ipykernel)",
   "language": "python",
   "name": "python3"
  },
  "language_info": {
   "codemirror_mode": {
    "name": "ipython",
    "version": 3
   },
   "file_extension": ".py",
   "mimetype": "text/x-python",
   "name": "python",
   "nbconvert_exporter": "python",
   "pygments_lexer": "ipython3",
   "version": "3.9.7"
  }
 },
 "nbformat": 4,
 "nbformat_minor": 5
}
