{
 "cells": [
  {
   "cell_type": "markdown",
   "id": "47980c49",
   "metadata": {},
   "source": [
    "### 1. Write a Python program to convert kilometers to miles?"
   ]
  },
  {
   "cell_type": "code",
   "execution_count": 1,
   "id": "fbc5cd5a",
   "metadata": {},
   "outputs": [],
   "source": [
    "def km_to_miles(km):\n",
    "    miles = km * 0.621371\n",
    "    return miles"
   ]
  },
  {
   "cell_type": "code",
   "execution_count": 2,
   "id": "56c9160d",
   "metadata": {},
   "outputs": [
    {
     "data": {
      "text/plain": [
       "6.21371"
      ]
     },
     "execution_count": 2,
     "metadata": {},
     "output_type": "execute_result"
    }
   ],
   "source": [
    "km_to_miles(10)"
   ]
  },
  {
   "cell_type": "markdown",
   "id": "16a41453",
   "metadata": {},
   "source": [
    "### 2.\tWrite a Python program to convert Celsius to Fahrenheit?"
   ]
  },
  {
   "cell_type": "code",
   "execution_count": 3,
   "id": "351cd963",
   "metadata": {},
   "outputs": [],
   "source": [
    "def cls_to_far(cls):\n",
    "    far = cls * (9/5) + 32\n",
    "    return far"
   ]
  },
  {
   "cell_type": "code",
   "execution_count": 4,
   "id": "22bcf20c",
   "metadata": {},
   "outputs": [
    {
     "data": {
      "text/plain": [
       "37.4"
      ]
     },
     "execution_count": 4,
     "metadata": {},
     "output_type": "execute_result"
    }
   ],
   "source": [
    "cls_to_far(3)"
   ]
  },
  {
   "cell_type": "markdown",
   "id": "63c42115",
   "metadata": {},
   "source": [
    "### 3.\tWrite a Python program to display calendar?"
   ]
  },
  {
   "cell_type": "code",
   "execution_count": 5,
   "id": "555477f4",
   "metadata": {},
   "outputs": [
    {
     "name": "stdout",
     "output_type": "stream",
     "text": [
      "     June 2022\n",
      "Mo Tu We Th Fr Sa Su\n",
      "       1  2  3  4  5\n",
      " 6  7  8  9 10 11 12\n",
      "13 14 15 16 17 18 19\n",
      "20 21 22 23 24 25 26\n",
      "27 28 29 30\n",
      "\n"
     ]
    }
   ],
   "source": [
    "import calendar\n",
    "\n",
    "year = 2022\n",
    "month = 6  \n",
    "\n",
    "print(calendar.month(year, month))"
   ]
  },
  {
   "cell_type": "markdown",
   "id": "823341b8",
   "metadata": {},
   "source": [
    "### 4.\tWrite a Python program to solve quadratic equation?"
   ]
  },
  {
   "cell_type": "code",
   "execution_count": 6,
   "id": "11cce18e",
   "metadata": {},
   "outputs": [],
   "source": [
    "# ax**2 + bx + c = 0\n",
    "\n",
    "import math\n",
    "\n",
    "def quad_func(a, b, c):\n",
    "    d = b**2 - 4 * a * c\n",
    "    sqrt_d = math.sqrt(abs(d))\n",
    "    \n",
    "    if d >= 0:\n",
    "        sol1 = (-b + sqrt_d)/ (2*a)\n",
    "        sol2 = (-b - sqrt_d)/ (2*a)\n",
    "    else:\n",
    "        sol1 = f\"{-b/(2*a)} + i {sqrt_d}\"\n",
    "        sol2 = f\"{-b/(2*a)} - i {sqrt_d}\"\n",
    "    \n",
    "    print(sol1)\n",
    "    print(sol2)\n",
    "    return None"
   ]
  },
  {
   "cell_type": "code",
   "execution_count": 7,
   "id": "81b93303",
   "metadata": {},
   "outputs": [
    {
     "name": "stdout",
     "output_type": "stream",
     "text": [
      "-0.35714285714285715 + i 5.5677643628300215\n",
      "-0.35714285714285715 - i 5.5677643628300215\n"
     ]
    }
   ],
   "source": [
    "quad_func(7, 5, 2)"
   ]
  },
  {
   "cell_type": "code",
   "execution_count": 8,
   "id": "61bb1d3f",
   "metadata": {},
   "outputs": [
    {
     "name": "stdout",
     "output_type": "stream",
     "text": [
      "-0.3693980625181293\n",
      "-0.7734590803390136\n"
     ]
    }
   ],
   "source": [
    "quad_func(7, 8, 2)"
   ]
  },
  {
   "cell_type": "markdown",
   "id": "0df66ac8",
   "metadata": {},
   "source": [
    "### 5.\tWrite a Python program to swap two variables without temp variable?"
   ]
  },
  {
   "cell_type": "code",
   "execution_count": 9,
   "id": "390f1393",
   "metadata": {},
   "outputs": [],
   "source": [
    "def swap(a, b):\n",
    "    print(f\"Before Swapping   ->  a = {a}, b = {b}\")\n",
    "    a = a + b\n",
    "    b = a - b\n",
    "    a = a - b\n",
    "    print(f\"After Swapping    ->  a = {a}, b = {b}\")"
   ]
  },
  {
   "cell_type": "code",
   "execution_count": 10,
   "id": "84ab5e26",
   "metadata": {},
   "outputs": [
    {
     "name": "stdout",
     "output_type": "stream",
     "text": [
      "Before Swapping   ->  a = 10, b = 20\n",
      "After Swapping    ->  a = 20, b = 10\n"
     ]
    }
   ],
   "source": [
    "swap(10, 20)"
   ]
  }
 ],
 "metadata": {
  "kernelspec": {
   "display_name": "Python 3 (ipykernel)",
   "language": "python",
   "name": "python3"
  },
  "language_info": {
   "codemirror_mode": {
    "name": "ipython",
    "version": 3
   },
   "file_extension": ".py",
   "mimetype": "text/x-python",
   "name": "python",
   "nbconvert_exporter": "python",
   "pygments_lexer": "ipython3",
   "version": "3.9.7"
  }
 },
 "nbformat": 4,
 "nbformat_minor": 5
}
