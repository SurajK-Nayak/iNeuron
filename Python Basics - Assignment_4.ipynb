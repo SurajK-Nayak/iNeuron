{
 "cells": [
  {
   "cell_type": "markdown",
   "id": "dfc42935",
   "metadata": {},
   "source": [
    "### 1. What exactly is []?"
   ]
  },
  {
   "cell_type": "markdown",
   "id": "2141982b",
   "metadata": {},
   "source": [
    "[] is an empty list.\n",
    "\n",
    "a list is created by placing elements inside square brackets [] , separated by commas."
   ]
  },
  {
   "cell_type": "markdown",
   "id": "2dd2f4ee",
   "metadata": {},
   "source": [
    "### 2. In a list of values stored in a variable called spam, how would you assign the value 'hello' as the third value? (Assume [2, 4, 6, 8, 10] are in spam.)"
   ]
  },
  {
   "cell_type": "code",
   "execution_count": 1,
   "id": "de308a1a",
   "metadata": {},
   "outputs": [
    {
     "data": {
      "text/plain": [
       "[2, 4, 'hello', 6, 8, 10]"
      ]
     },
     "execution_count": 1,
     "metadata": {},
     "output_type": "execute_result"
    }
   ],
   "source": [
    "# inserting 'hello' at third position\n",
    "\n",
    "spam = [2, 4, 6, 8, 10]\n",
    "spam.insert(2, 'hello')\n",
    "spam"
   ]
  },
  {
   "cell_type": "code",
   "execution_count": 2,
   "id": "c84feaa4",
   "metadata": {},
   "outputs": [
    {
     "data": {
      "text/plain": [
       "[2, 4, 'hello', 8, 10]"
      ]
     },
     "execution_count": 2,
     "metadata": {},
     "output_type": "execute_result"
    }
   ],
   "source": [
    "# replacing 3rd position as 'hello'\n",
    "\n",
    "spam = [2, 4, 6, 8, 10]\n",
    "spam[2] = 'hello' \n",
    "spam"
   ]
  },
  {
   "cell_type": "markdown",
   "id": "e5d9a1af",
   "metadata": {},
   "source": [
    "### Let's pretend the spam includes the list ['a', 'b', 'c', 'd'] for the next three queries."
   ]
  },
  {
   "cell_type": "markdown",
   "id": "154349f7",
   "metadata": {},
   "source": [
    "### 3. What is the value of spam[int(int('3' * 2) / 11)]?"
   ]
  },
  {
   "cell_type": "markdown",
   "id": "d94a9ac5",
   "metadata": {},
   "source": [
    "spam[int(int('3' * 2) / 11)]\n",
    "\n",
    "spam[int(int('33') / 11)]\n",
    "\n",
    "spam[int(33 / 11)]\n",
    "\n",
    "spam[3] which is 'd'\n",
    "\n",
    "hence,\n",
    "\n",
    "spam[int(int('3' * 2) / 11)] = 'd'"
   ]
  },
  {
   "cell_type": "markdown",
   "id": "1c7996fd",
   "metadata": {},
   "source": [
    "### 4. What is the value of spam[-1]?"
   ]
  },
  {
   "cell_type": "markdown",
   "id": "35ccb8e6",
   "metadata": {},
   "source": [
    "spam[-1] = 'd'"
   ]
  },
  {
   "cell_type": "markdown",
   "id": "b3735fcb",
   "metadata": {},
   "source": [
    "### 5. What is the value of spam[:2]?"
   ]
  },
  {
   "cell_type": "markdown",
   "id": "40239bcc",
   "metadata": {},
   "source": [
    "spam[:2] = ['a', 'b']"
   ]
  },
  {
   "cell_type": "markdown",
   "id": "d9d847fa",
   "metadata": {},
   "source": [
    "### Let's pretend bacon has the list [3.14, 'cat,' 11, 'cat,' True] for the next three questions."
   ]
  },
  {
   "cell_type": "markdown",
   "id": "84bcf75a",
   "metadata": {},
   "source": [
    "### 6. What is the value of bacon.index('cat')?"
   ]
  },
  {
   "cell_type": "markdown",
   "id": "55664b4b",
   "metadata": {},
   "source": [
    "bacon.index('cat') = 1"
   ]
  },
  {
   "cell_type": "markdown",
   "id": "5003c38c",
   "metadata": {},
   "source": [
    "### 7. How does bacon.append(99) change the look of the list value in bacon?"
   ]
  },
  {
   "cell_type": "markdown",
   "id": "81bc052c",
   "metadata": {},
   "source": [
    "bacon.append(99) inserts 99 at the end of the list and so the new list becomes\n",
    "\n",
    "[3.14, 'cat', 11, 'cat', True, 99]"
   ]
  },
  {
   "cell_type": "markdown",
   "id": "99d84da5",
   "metadata": {},
   "source": [
    "### 8. How does bacon.remove('cat') change the look of the list in bacon?"
   ]
  },
  {
   "cell_type": "markdown",
   "id": "034dc2ff",
   "metadata": {},
   "source": [
    "bacon.remove('cat') removes the first occurence of 'cat' from the list, so the new list becomes\n",
    "\n",
    "[3.14, 11, 'cat', True]"
   ]
  },
  {
   "cell_type": "markdown",
   "id": "bfd36f7d",
   "metadata": {},
   "source": [
    "### 9. What are the list concatenation and list replication operators?"
   ]
  },
  {
   "cell_type": "markdown",
   "id": "30cd0483",
   "metadata": {},
   "source": [
    "the operator for list concatenation is '+', while the operator for replication is '*'"
   ]
  },
  {
   "cell_type": "code",
   "execution_count": 3,
   "id": "377d95c5",
   "metadata": {},
   "outputs": [
    {
     "data": {
      "text/plain": [
       "[1, 2, 3, 1, 2, 3]"
      ]
     },
     "execution_count": 3,
     "metadata": {},
     "output_type": "execute_result"
    }
   ],
   "source": [
    "# list concatenation\n",
    "\n",
    "lst1 = [1, 2, 3]\n",
    "lst1 + lst1"
   ]
  },
  {
   "cell_type": "code",
   "execution_count": 4,
   "id": "513b0e00",
   "metadata": {},
   "outputs": [
    {
     "data": {
      "text/plain": [
       "[1, 2, 3, 1, 2, 3]"
      ]
     },
     "execution_count": 4,
     "metadata": {},
     "output_type": "execute_result"
    }
   ],
   "source": [
    "# list replication\n",
    "\n",
    "lst1 = [1, 2, 3]\n",
    "lst1 * 2"
   ]
  },
  {
   "cell_type": "markdown",
   "id": "20afcbd7",
   "metadata": {},
   "source": [
    "### 10. What is difference between the list methods append() and insert()?"
   ]
  },
  {
   "cell_type": "markdown",
   "id": "b5dd13ab",
   "metadata": {},
   "source": [
    "The difference between append() and insert() is that, insert function allows to add a specific element at a specified index of the list unlike append() where we can add the element only at end of the list."
   ]
  },
  {
   "cell_type": "markdown",
   "id": "d171fb8d",
   "metadata": {},
   "source": [
    "### 11. What are the two methods for removing items from a list?"
   ]
  },
  {
   "cell_type": "markdown",
   "id": "42761491",
   "metadata": {},
   "source": [
    "The remove() method removes the specified item.\n",
    "\n",
    "The pop() method removes the specified index."
   ]
  },
  {
   "cell_type": "markdown",
   "id": "e326c656",
   "metadata": {},
   "source": [
    "### 12. Describe how list values and string values are identical."
   ]
  },
  {
   "cell_type": "markdown",
   "id": "cc9ccce7",
   "metadata": {},
   "source": [
    "Both list values and string values are sequence.\n",
    "\n",
    "They can be called using indexes in square brackets."
   ]
  },
  {
   "cell_type": "code",
   "execution_count": 5,
   "id": "4de581cc",
   "metadata": {},
   "outputs": [
    {
     "data": {
      "text/plain": [
       "'S'"
      ]
     },
     "execution_count": 5,
     "metadata": {},
     "output_type": "execute_result"
    }
   ],
   "source": [
    "s = \"Suraj\"\n",
    "s[0]"
   ]
  },
  {
   "cell_type": "code",
   "execution_count": 6,
   "id": "0a6474f3",
   "metadata": {},
   "outputs": [
    {
     "data": {
      "text/plain": [
       "'u'"
      ]
     },
     "execution_count": 6,
     "metadata": {},
     "output_type": "execute_result"
    }
   ],
   "source": [
    "s = [\"s\", \"u\", \"r\"]\n",
    "s[1]"
   ]
  },
  {
   "cell_type": "markdown",
   "id": "4db5ea0a",
   "metadata": {},
   "source": [
    "### 13. What's the difference between tuples and lists?"
   ]
  },
  {
   "cell_type": "markdown",
   "id": "b1cdbedf",
   "metadata": {},
   "source": [
    "The key difference between the tuples and lists is that while the tuples are immutable objects the lists are mutable. This means that tuples cannot be changed while the lists can be modified. "
   ]
  },
  {
   "cell_type": "markdown",
   "id": "e545b762",
   "metadata": {},
   "source": [
    "### 14. How do you type a tuple value that only contains the integer 42?"
   ]
  },
  {
   "cell_type": "code",
   "execution_count": 7,
   "id": "25420f15",
   "metadata": {},
   "outputs": [
    {
     "data": {
      "text/plain": [
       "tuple"
      ]
     },
     "execution_count": 7,
     "metadata": {},
     "output_type": "execute_result"
    }
   ],
   "source": [
    "t = (42, )\n",
    "type(t)"
   ]
  },
  {
   "cell_type": "markdown",
   "id": "5820f69a",
   "metadata": {},
   "source": [
    "### 15. How do you get a list value's tuple form? How do you get a tuple value's list form?"
   ]
  },
  {
   "cell_type": "markdown",
   "id": "19809ccf",
   "metadata": {},
   "source": [
    "The tuple() and list() functions"
   ]
  },
  {
   "cell_type": "code",
   "execution_count": 8,
   "id": "12aed9c9",
   "metadata": {},
   "outputs": [
    {
     "data": {
      "text/plain": [
       "tuple"
      ]
     },
     "execution_count": 8,
     "metadata": {},
     "output_type": "execute_result"
    }
   ],
   "source": [
    "lst = [1, 2, 3]\n",
    "tup = tuple(lst)\n",
    "type(tup)"
   ]
  },
  {
   "cell_type": "code",
   "execution_count": 9,
   "id": "ddd76e6f",
   "metadata": {},
   "outputs": [
    {
     "data": {
      "text/plain": [
       "list"
      ]
     },
     "execution_count": 9,
     "metadata": {},
     "output_type": "execute_result"
    }
   ],
   "source": [
    "tup = (1, 2, 3)\n",
    "lst = list(tup)\n",
    "type(lst)"
   ]
  },
  {
   "cell_type": "markdown",
   "id": "ae7f9a32",
   "metadata": {},
   "source": [
    "### 16. Variables that \"contain\" list values are not necessarily lists themselves. Instead, what do they contain?"
   ]
  },
  {
   "cell_type": "markdown",
   "id": "d076c6b5",
   "metadata": {},
   "source": [
    "They contain references to list values."
   ]
  },
  {
   "cell_type": "markdown",
   "id": "925bdb0f",
   "metadata": {},
   "source": [
    "### 17. How do you distinguish between copy.copy() and copy.deepcopy()?"
   ]
  },
  {
   "cell_type": "markdown",
   "id": "896ac8d5",
   "metadata": {},
   "source": [
    "The copy.copy() function will do a shallow copy of a list, while the copy.deepcopy() function will do a deep copy of a list. That is, only copy.deepcopy() will duplicate any lists inside the list."
   ]
  }
 ],
 "metadata": {
  "kernelspec": {
   "display_name": "Python 3 (ipykernel)",
   "language": "python",
   "name": "python3"
  },
  "language_info": {
   "codemirror_mode": {
    "name": "ipython",
    "version": 3
   },
   "file_extension": ".py",
   "mimetype": "text/x-python",
   "name": "python",
   "nbconvert_exporter": "python",
   "pygments_lexer": "ipython3",
   "version": "3.9.7"
  }
 },
 "nbformat": 4,
 "nbformat_minor": 5
}
