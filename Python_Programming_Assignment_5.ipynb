{
 "cells": [
  {
   "cell_type": "markdown",
   "id": "a7bf89a9",
   "metadata": {},
   "source": [
    "### 1.\tWrite a Python Program to Find LCM?"
   ]
  },
  {
   "cell_type": "code",
   "execution_count": 1,
   "id": "71ddd0bd",
   "metadata": {},
   "outputs": [],
   "source": [
    "def lcm(a, b):\n",
    "    c = a * b\n",
    "    for i in range(max(a, b), c+1, max(a, b)):\n",
    "        if i%a==0 and i%b==0:\n",
    "            return i\n",
    "    return None"
   ]
  },
  {
   "cell_type": "code",
   "execution_count": 2,
   "id": "dd675b6f",
   "metadata": {},
   "outputs": [
    {
     "data": {
      "text/plain": [
       "20"
      ]
     },
     "execution_count": 2,
     "metadata": {},
     "output_type": "execute_result"
    }
   ],
   "source": [
    "lcm(4, 5)"
   ]
  },
  {
   "cell_type": "markdown",
   "id": "adb406d0",
   "metadata": {},
   "source": [
    "### 2.\tWrite a Python Program to Find HCF?"
   ]
  },
  {
   "cell_type": "code",
   "execution_count": 3,
   "id": "004ac5f4",
   "metadata": {},
   "outputs": [],
   "source": [
    "def hcf(a, b):\n",
    "    for i in range(min(a, b)+1, 1, -1):\n",
    "        if a%i==0 and b%i==0:\n",
    "            return i\n",
    "    return None"
   ]
  },
  {
   "cell_type": "code",
   "execution_count": 4,
   "id": "36fe96d6",
   "metadata": {},
   "outputs": [
    {
     "data": {
      "text/plain": [
       "25"
      ]
     },
     "execution_count": 4,
     "metadata": {},
     "output_type": "execute_result"
    }
   ],
   "source": [
    "hcf(50, 75)"
   ]
  },
  {
   "cell_type": "markdown",
   "id": "ade4b182",
   "metadata": {},
   "source": [
    "### 3.\tWrite a Python Program to Convert Decimal to Binary, Octal and Hexadecimal?"
   ]
  },
  {
   "cell_type": "code",
   "execution_count": 5,
   "id": "0b410d80",
   "metadata": {},
   "outputs": [],
   "source": [
    "def convert(num):\n",
    "    print(f\"number = {num}\")\n",
    "    print(f\"binary = {bin(num)}\")\n",
    "    print(f\"octal = {oct(num)}\")\n",
    "    print(f\"hexadecimal = {hex(num)}\")"
   ]
  },
  {
   "cell_type": "code",
   "execution_count": 6,
   "id": "1ca6e054",
   "metadata": {},
   "outputs": [
    {
     "name": "stdout",
     "output_type": "stream",
     "text": [
      "number = 12\n",
      "binary = 0b1100\n",
      "octal = 0o14\n",
      "hexadecimal = 0xc\n"
     ]
    }
   ],
   "source": [
    "convert(12)"
   ]
  },
  {
   "cell_type": "markdown",
   "id": "b6a07e0b",
   "metadata": {},
   "source": [
    "### 4.\tWrite a Python Program To Find ASCII value of a character?"
   ]
  },
  {
   "cell_type": "code",
   "execution_count": 7,
   "id": "f1081882",
   "metadata": {},
   "outputs": [],
   "source": [
    "def ascii(char):\n",
    "    return ord(char)"
   ]
  },
  {
   "cell_type": "code",
   "execution_count": 8,
   "id": "09b36dae",
   "metadata": {},
   "outputs": [
    {
     "data": {
      "text/plain": [
       "112"
      ]
     },
     "execution_count": 8,
     "metadata": {},
     "output_type": "execute_result"
    }
   ],
   "source": [
    "ascii('p')"
   ]
  },
  {
   "cell_type": "markdown",
   "id": "2e6bf3a9",
   "metadata": {},
   "source": [
    "### 5.\tWrite a Python Program to Make a Simple Calculator with 4 basic mathematical operations?"
   ]
  },
  {
   "cell_type": "code",
   "execution_count": 9,
   "id": "2edcf5ec",
   "metadata": {},
   "outputs": [
    {
     "name": "stdout",
     "output_type": "stream",
     "text": [
      "Select operation.\n",
      "1.Add\n",
      "2.Subtract\n",
      "3.Multiply\n",
      "4.Divide\n",
      "Enter choice(1/2/3/4): 2\n",
      "Enter first number: 2\n",
      "Enter second number: 3\n",
      "2.0 - 3.0 = -1.0\n",
      "Let's do next calculation? (yes/no): no\n"
     ]
    }
   ],
   "source": [
    "print(\"Select operation.\")\n",
    "print(\"1.Add\")\n",
    "print(\"2.Subtract\")\n",
    "print(\"3.Multiply\")\n",
    "print(\"4.Divide\")\n",
    "\n",
    "while True:\n",
    "    choice = input(\"Enter choice(1/2/3/4): \")\n",
    "\n",
    "    if choice in ('1', '2', '3', '4'):\n",
    "        num1 = float(input(\"Enter first number: \"))\n",
    "        num2 = float(input(\"Enter second number: \"))\n",
    "\n",
    "        if choice == '1':\n",
    "            print(f\"{num1} + {num2} = {num1 + num2}\")\n",
    "\n",
    "        elif choice == '2':\n",
    "            print(f\"{num1} - {num2} = {num1 - num2}\")\n",
    "\n",
    "        elif choice == '3':\n",
    "            print(f\"{num1} * {num2} = {num1 * num2}\")\n",
    "\n",
    "        elif choice == '4':\n",
    "            print(f\"{num1} / {num2} = {num1 / num2}\")\n",
    "        \n",
    "        next_calculation = input(\"Let's do next calculation? (yes/no): \")\n",
    "        if next_calculation == \"no\":\n",
    "          break\n",
    "    \n",
    "    else:\n",
    "        print(\"Invalid Input\")"
   ]
  }
 ],
 "metadata": {
  "kernelspec": {
   "display_name": "Python 3 (ipykernel)",
   "language": "python",
   "name": "python3"
  },
  "language_info": {
   "codemirror_mode": {
    "name": "ipython",
    "version": 3
   },
   "file_extension": ".py",
   "mimetype": "text/x-python",
   "name": "python",
   "nbconvert_exporter": "python",
   "pygments_lexer": "ipython3",
   "version": "3.9.7"
  }
 },
 "nbformat": 4,
 "nbformat_minor": 5
}
