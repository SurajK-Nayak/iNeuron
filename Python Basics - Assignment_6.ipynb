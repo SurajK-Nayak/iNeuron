{
 "cells": [
  {
   "cell_type": "markdown",
   "id": "3346dd11",
   "metadata": {},
   "source": [
    "### 1. What are escape characters, and how do you use them?"
   ]
  },
  {
   "cell_type": "markdown",
   "id": "710736aa",
   "metadata": {},
   "source": [
    "Escape characters are used to insert characters that are illegal in a string. \n",
    "\n",
    "An escape character is a backslash \\ followed by the character you want to insert."
   ]
  },
  {
   "cell_type": "markdown",
   "id": "a0d44a6d",
   "metadata": {},
   "source": [
    "### 2. What do the escape characters n and t stand for?"
   ]
  },
  {
   "cell_type": "markdown",
   "id": "5d4873a7",
   "metadata": {},
   "source": [
    "\"\\t\" is a tab, \"\\n\" is a newline"
   ]
  },
  {
   "cell_type": "markdown",
   "id": "8e9b871a",
   "metadata": {},
   "source": [
    "### 3. What is the way to include backslash characters in a string?"
   ]
  },
  {
   "cell_type": "markdown",
   "id": "3726ac50",
   "metadata": {},
   "source": [
    "To include backslash in the string, you have to write two backslashes \\ \\"
   ]
  },
  {
   "cell_type": "code",
   "execution_count": 1,
   "id": "ce5e03df",
   "metadata": {},
   "outputs": [
    {
     "name": "stdout",
     "output_type": "stream",
     "text": [
      "old\n",
      "ew\n"
     ]
    }
   ],
   "source": [
    "print(\"old\\new\")"
   ]
  },
  {
   "cell_type": "code",
   "execution_count": 2,
   "id": "20a2c2f0",
   "metadata": {},
   "outputs": [
    {
     "name": "stdout",
     "output_type": "stream",
     "text": [
      "old\\new\n"
     ]
    }
   ],
   "source": [
    "print(\"old\\\\new\")"
   ]
  },
  {
   "cell_type": "markdown",
   "id": "84655959",
   "metadata": {},
   "source": [
    "### 4. The string \"Howl's Moving Castle\" is a correct value. Why isn't the single quote character in the word Howl's not escaped a problem?"
   ]
  },
  {
   "cell_type": "markdown",
   "id": "f5508f35",
   "metadata": {},
   "source": [
    "The single quote in Howl's is fine because you've used double quotes to mark the beginning and end of the string."
   ]
  },
  {
   "cell_type": "markdown",
   "id": "d01e292f",
   "metadata": {},
   "source": [
    "### 5. How do you write a string of newlines if you don't want to use the n character?"
   ]
  },
  {
   "cell_type": "markdown",
   "id": "b6686f0c",
   "metadata": {},
   "source": [
    "Multiline strings allow you to use newlines in strings without the \\n escape character"
   ]
  },
  {
   "cell_type": "markdown",
   "id": "886e895a",
   "metadata": {},
   "source": [
    "### 6. What are the values of the given expressions?"
   ]
  },
  {
   "cell_type": "markdown",
   "id": "b48fa583",
   "metadata": {},
   "source": [
    "'Hello, world!'[1] = 'e'\n",
    "\n",
    "'Hello, world!'[0:5] = 'Hello'\n",
    "\n",
    "'Hello, world!'[:5] = 'Hello'\n",
    "\n",
    "'Hello, world!'[3:] = 'lo, world!'"
   ]
  },
  {
   "cell_type": "markdown",
   "id": "a9f849e8",
   "metadata": {},
   "source": [
    "### 7. What are the values of the following expressions?"
   ]
  },
  {
   "cell_type": "markdown",
   "id": "f6b8c398",
   "metadata": {},
   "source": [
    "'Hello'.upper() = 'HELLO'\n",
    "\n",
    "'Hello'.upper().isupper() = True\n",
    "\n",
    "'Hello'.upper().lower() = 'hello'"
   ]
  },
  {
   "cell_type": "markdown",
   "id": "b295f3d1",
   "metadata": {},
   "source": [
    "### 8. What are the values of the following expressions?"
   ]
  },
  {
   "cell_type": "markdown",
   "id": "030e961f",
   "metadata": {},
   "source": [
    "'Remember, remember, the fifth of July.'.split() = ['Remember,', 'remember,', 'the', 'fifth', 'of', 'July.']"
   ]
  },
  {
   "cell_type": "markdown",
   "id": "d9a48c47",
   "metadata": {},
   "source": [
    "'-'.join('There can only one.'.split()) = 'There-can-only-one.'"
   ]
  },
  {
   "cell_type": "markdown",
   "id": "7df8b8e9",
   "metadata": {},
   "source": [
    "### 9. What are the methods for right-justifying, left-justifying, and centering a string?"
   ]
  },
  {
   "cell_type": "markdown",
   "id": "4b4fa14d",
   "metadata": {},
   "source": [
    "rjust() = right-justifying\n",
    "\n",
    "ljust() = left-justifying\n",
    "\n",
    "center() = centering"
   ]
  },
  {
   "cell_type": "markdown",
   "id": "162cc13f",
   "metadata": {},
   "source": [
    "### 10. What is the best way to remove whitespace characters from the start or end?"
   ]
  },
  {
   "cell_type": "markdown",
   "id": "2b57df4b",
   "metadata": {},
   "source": [
    "The lstrip() and rstrip() methods remove whitespace from the left and right ends of a string, respectively.\n",
    "\n",
    "The strip() method remove whitespace from both the left and right ends of a string."
   ]
  }
 ],
 "metadata": {
  "kernelspec": {
   "display_name": "Python 3 (ipykernel)",
   "language": "python",
   "name": "python3"
  },
  "language_info": {
   "codemirror_mode": {
    "name": "ipython",
    "version": 3
   },
   "file_extension": ".py",
   "mimetype": "text/x-python",
   "name": "python",
   "nbconvert_exporter": "python",
   "pygments_lexer": "ipython3",
   "version": "3.9.7"
  }
 },
 "nbformat": 4,
 "nbformat_minor": 5
}
