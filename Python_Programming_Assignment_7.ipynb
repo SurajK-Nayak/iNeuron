{
 "cells": [
  {
   "cell_type": "markdown",
   "id": "f5251476",
   "metadata": {},
   "source": [
    "### 1.\tWrite a Python Program to find sum of array?"
   ]
  },
  {
   "cell_type": "code",
   "execution_count": 1,
   "id": "8d161a29",
   "metadata": {},
   "outputs": [],
   "source": [
    "def sum_arr(arr):\n",
    "    sum = 0\n",
    "    for i in arr:\n",
    "        sum = sum + i\n",
    "    return sum"
   ]
  },
  {
   "cell_type": "code",
   "execution_count": 2,
   "id": "3c084a59",
   "metadata": {},
   "outputs": [
    {
     "data": {
      "text/plain": [
       "15"
      ]
     },
     "execution_count": 2,
     "metadata": {},
     "output_type": "execute_result"
    }
   ],
   "source": [
    "arr = [1, 2, 3, 4, 5]\n",
    "sum_arr(arr)"
   ]
  },
  {
   "cell_type": "markdown",
   "id": "37ed673d",
   "metadata": {},
   "source": [
    "### 2.\tWrite a Python Program to find largest element in an array?"
   ]
  },
  {
   "cell_type": "code",
   "execution_count": 3,
   "id": "4d07d49f",
   "metadata": {},
   "outputs": [],
   "source": [
    "def max_arr(arr):\n",
    "    max = 0\n",
    "    for i in arr:\n",
    "        if i > max:\n",
    "            max = i\n",
    "    return max"
   ]
  },
  {
   "cell_type": "code",
   "execution_count": 4,
   "id": "d8ce2500",
   "metadata": {},
   "outputs": [
    {
     "data": {
      "text/plain": [
       "5"
      ]
     },
     "execution_count": 4,
     "metadata": {},
     "output_type": "execute_result"
    }
   ],
   "source": [
    "arr = [1, 2, 3, 4, 5]\n",
    "max_arr(arr)"
   ]
  },
  {
   "cell_type": "markdown",
   "id": "52567210",
   "metadata": {},
   "source": [
    "### 3.\tWrite a Python Program for array rotation?"
   ]
  },
  {
   "cell_type": "code",
   "execution_count": 5,
   "id": "8e7108ff",
   "metadata": {},
   "outputs": [],
   "source": [
    "def rotate_arr(arr, position, direction):\n",
    "    res = []\n",
    "    \n",
    "    if direction == \"left\":\n",
    "        res = arr[position:] + arr[:position]\n",
    "    else:\n",
    "        res = arr[-position:] + arr[0:-position]\n",
    "    \n",
    "    return res"
   ]
  },
  {
   "cell_type": "code",
   "execution_count": 6,
   "id": "5643f298",
   "metadata": {},
   "outputs": [
    {
     "data": {
      "text/plain": [
       "[3, 4, 5, 6, 1, 2]"
      ]
     },
     "execution_count": 6,
     "metadata": {},
     "output_type": "execute_result"
    }
   ],
   "source": [
    "arr = [1, 2, 3, 4, 5, 6]\n",
    "rotate_arr(arr, 2, \"left\")"
   ]
  },
  {
   "cell_type": "code",
   "execution_count": 7,
   "id": "4b1642d8",
   "metadata": {},
   "outputs": [
    {
     "data": {
      "text/plain": [
       "[5, 6, 1, 2, 3, 4]"
      ]
     },
     "execution_count": 7,
     "metadata": {},
     "output_type": "execute_result"
    }
   ],
   "source": [
    "arr = [1, 2, 3, 4, 5, 6]\n",
    "rotate_arr(arr, 2, \"right\")"
   ]
  },
  {
   "cell_type": "markdown",
   "id": "b3913e28",
   "metadata": {},
   "source": [
    "### 4.\tWrite a Python Program to Split the array and add the first part to the end?"
   ]
  },
  {
   "cell_type": "code",
   "execution_count": 8,
   "id": "f9a140bf",
   "metadata": {},
   "outputs": [],
   "source": [
    "def first_last(arr):\n",
    "    temp = arr[0]\n",
    "    arr[0] = arr[-1]\n",
    "    arr[-1] = temp\n",
    "    return arr"
   ]
  },
  {
   "cell_type": "code",
   "execution_count": 9,
   "id": "2008183d",
   "metadata": {},
   "outputs": [
    {
     "data": {
      "text/plain": [
       "[5, 2, 3, 4, 1]"
      ]
     },
     "execution_count": 9,
     "metadata": {},
     "output_type": "execute_result"
    }
   ],
   "source": [
    "arr = [1, 2, 3, 4, 5]\n",
    "first_last(arr)"
   ]
  },
  {
   "cell_type": "markdown",
   "id": "f2a60c97",
   "metadata": {},
   "source": [
    "### 5.\tWrite a Python Program to check if given array is Monotonic?"
   ]
  },
  {
   "cell_type": "code",
   "execution_count": 10,
   "id": "a7b1057c",
   "metadata": {},
   "outputs": [],
   "source": [
    "def is_monotonic(arr):\n",
    "    inc_flag = True\n",
    "    des_flag = True\n",
    "    \n",
    "    for i in range(1, len(arr)):\n",
    "        if arr[i] <= arr[i-1]:\n",
    "            inc_flag = False\n",
    "        \n",
    "        if arr[i] >= arr[i-1]:\n",
    "            des_flag = False\n",
    "        \n",
    "    return inc_flag or des_flag"
   ]
  },
  {
   "cell_type": "code",
   "execution_count": 11,
   "id": "92be5b15",
   "metadata": {},
   "outputs": [
    {
     "data": {
      "text/plain": [
       "True"
      ]
     },
     "execution_count": 11,
     "metadata": {},
     "output_type": "execute_result"
    }
   ],
   "source": [
    "arr = [1, 2, 3, 4, 5]\n",
    "is_monotonic(arr)"
   ]
  }
 ],
 "metadata": {
  "kernelspec": {
   "display_name": "Python 3 (ipykernel)",
   "language": "python",
   "name": "python3"
  },
  "language_info": {
   "codemirror_mode": {
    "name": "ipython",
    "version": 3
   },
   "file_extension": ".py",
   "mimetype": "text/x-python",
   "name": "python",
   "nbconvert_exporter": "python",
   "pygments_lexer": "ipython3",
   "version": "3.9.7"
  }
 },
 "nbformat": 4,
 "nbformat_minor": 5
}
