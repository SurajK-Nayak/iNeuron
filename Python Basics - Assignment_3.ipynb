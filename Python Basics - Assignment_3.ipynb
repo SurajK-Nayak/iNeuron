{
 "cells": [
  {
   "cell_type": "markdown",
   "id": "617b74fb",
   "metadata": {},
   "source": [
    "### 1. Why are functions advantageous to have in your programs?"
   ]
  },
  {
   "cell_type": "markdown",
   "id": "eab39d8d",
   "metadata": {},
   "source": [
    "Functions reduce the need for duplicate code. This makes programs shorter, easier to read, and easier to update.\n",
    "\n",
    "Functions helps to divide the large programs into small groups so that we can read the code, and debug the program faster and better."
   ]
  },
  {
   "cell_type": "markdown",
   "id": "cbb55598",
   "metadata": {},
   "source": [
    "### 2. When does the code in a function run: when it's specified or when it's called?"
   ]
  },
  {
   "cell_type": "markdown",
   "id": "7e013615",
   "metadata": {},
   "source": [
    "The code in a function runs when it is called."
   ]
  },
  {
   "cell_type": "markdown",
   "id": "a2d632f7",
   "metadata": {},
   "source": [
    "### 3. What statement creates a function?"
   ]
  },
  {
   "cell_type": "markdown",
   "id": "d04bfdb9",
   "metadata": {},
   "source": [
    "Function blocks begin with the keyword def followed by the function name and parentheses.\n",
    "\n",
    "Any input parameters or arguments should be placed within these parentheses.\n",
    "\n",
    "The code block within every function starts with a colon (:) and is indented.\n",
    "\n",
    "The first statement of a function can be an optional statement i.e. the documentation string of the function or docstring.\n",
    "\n",
    "The statement return exits a function."
   ]
  },
  {
   "cell_type": "code",
   "execution_count": 1,
   "id": "1638c84a",
   "metadata": {},
   "outputs": [
    {
     "data": {
      "text/plain": [
       "13"
      ]
     },
     "execution_count": 1,
     "metadata": {},
     "output_type": "execute_result"
    }
   ],
   "source": [
    "# example of afunction which returns addition of 2 numbers\n",
    "\n",
    "def add(a, b):\n",
    "    \"\"\"This returns addition of 2 numbers\"\"\"\n",
    "    return a + b\n",
    "\n",
    "add(6,7)"
   ]
  },
  {
   "cell_type": "markdown",
   "id": "a659755e",
   "metadata": {},
   "source": [
    "### 4. What is the difference between a function and a function call?"
   ]
  },
  {
   "cell_type": "markdown",
   "id": "1a9fcd7a",
   "metadata": {},
   "source": [
    "A function is a block of code that does a particular operation and returns a result. It usually accepts inputs as parameters and returns a result. The parameters are not mandatory. \n",
    "\n",
    "A function call is the code used to pass control to a function. When a function is called it executes the code written in function body and returns a result."
   ]
  },
  {
   "cell_type": "markdown",
   "id": "76dfbd95",
   "metadata": {},
   "source": [
    "### 5. How many global scopes are there in a Python program? How many local scopes?"
   ]
  },
  {
   "cell_type": "markdown",
   "id": "83603cb6",
   "metadata": {},
   "source": [
    "The scope of global variables is the entire program whereas the scope of local variable is limited to the function where it is defined\n",
    "\n",
    "There's only one global Python scope per program execution. This scope remains in existence until the program terminates and all its names are forgotten.\n",
    "\n",
    "When you use an variable name inside a function, Python searches three scopes—the local (L), then the global (G), and then the built-in (B)—and stops at the first place the name is found."
   ]
  },
  {
   "cell_type": "markdown",
   "id": "3d9900c9",
   "metadata": {},
   "source": [
    "### 6. What happens to variables in a local scope when the function call returns?"
   ]
  },
  {
   "cell_type": "markdown",
   "id": "528214fb",
   "metadata": {},
   "source": [
    "When the execution of the function terminates (returns), the local variables are destroyed."
   ]
  },
  {
   "cell_type": "markdown",
   "id": "a3d66e0a",
   "metadata": {},
   "source": [
    "### 7. What is the concept of a return value? Is it possible to have a return value in an expression?"
   ]
  },
  {
   "cell_type": "markdown",
   "id": "9a488bba",
   "metadata": {},
   "source": [
    "A return is a value that a function returns to the calling script or function when it completes its task.\n",
    "\n",
    "Yes, we can use return value in a expression in which the value has a logical meaning."
   ]
  },
  {
   "cell_type": "markdown",
   "id": "bfd84546",
   "metadata": {},
   "source": [
    "### 8. If a function does not have a return statement, what is the return value of a call to that function?"
   ]
  },
  {
   "cell_type": "markdown",
   "id": "b99501aa",
   "metadata": {},
   "source": [
    "If a function dont havea a return statement, then it automatically returns None"
   ]
  },
  {
   "cell_type": "markdown",
   "id": "4dbfacca",
   "metadata": {},
   "source": [
    "### 9. How do you make a function variable refer to the global variable?"
   ]
  },
  {
   "cell_type": "markdown",
   "id": "857bff73",
   "metadata": {},
   "source": [
    "If you want to refer to a global variable in a function, you can use the global keyword to declare which variables are global."
   ]
  },
  {
   "cell_type": "markdown",
   "id": "27e99ef3",
   "metadata": {},
   "source": [
    "### 10. What is the data type of None?"
   ]
  },
  {
   "cell_type": "markdown",
   "id": "eb3fc141",
   "metadata": {},
   "source": [
    "None is a data type of its own (NoneType) and only None can be None."
   ]
  },
  {
   "cell_type": "markdown",
   "id": "75cfd8e0",
   "metadata": {},
   "source": [
    "### 11. What does the sentence import areallyourpetsnamederic do?"
   ]
  },
  {
   "cell_type": "markdown",
   "id": "d14ad651",
   "metadata": {},
   "source": [
    "The import statement imports a module named areallyourpetsnamederic."
   ]
  },
  {
   "cell_type": "markdown",
   "id": "f88ec889",
   "metadata": {},
   "source": [
    "### 12. If you had a bacon() feature in a spam module, what would you call it after importing spam?"
   ]
  },
  {
   "cell_type": "markdown",
   "id": "998b855b",
   "metadata": {},
   "source": [
    "import spam\n",
    "\n",
    "spam.bacon()"
   ]
  },
  {
   "cell_type": "markdown",
   "id": "bf303e55",
   "metadata": {},
   "source": [
    "### 13. What can you do to save a programme from crashing if it encounters an error?"
   ]
  },
  {
   "cell_type": "markdown",
   "id": "b8e23273",
   "metadata": {},
   "source": [
    "We can use exception handling to prevent crashing"
   ]
  },
  {
   "cell_type": "markdown",
   "id": "8ee70420",
   "metadata": {},
   "source": [
    "### 14. What is the purpose of the try clause? What is the purpose of the except clause?"
   ]
  },
  {
   "cell_type": "markdown",
   "id": "79852da8",
   "metadata": {},
   "source": [
    "The try block lets you test a block of code for errors. The except block lets you handle the error."
   ]
  }
 ],
 "metadata": {
  "kernelspec": {
   "display_name": "Python 3 (ipykernel)",
   "language": "python",
   "name": "python3"
  },
  "language_info": {
   "codemirror_mode": {
    "name": "ipython",
    "version": 3
   },
   "file_extension": ".py",
   "mimetype": "text/x-python",
   "name": "python",
   "nbconvert_exporter": "python",
   "pygments_lexer": "ipython3",
   "version": "3.9.7"
  }
 },
 "nbformat": 4,
 "nbformat_minor": 5
}
